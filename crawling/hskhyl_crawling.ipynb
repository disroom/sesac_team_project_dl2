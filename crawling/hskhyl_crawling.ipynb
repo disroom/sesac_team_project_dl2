{
 "cells": [
  {
   "cell_type": "code",
   "execution_count": null,
   "metadata": {},
   "outputs": [],
   "source": [
    "!pip install pandas\n",
    "!pip install requests\n",
    "!pip install bs4\n",
    "!pip install lxml"
   ]
  },
  {
   "cell_type": "code",
   "execution_count": 2,
   "metadata": {},
   "outputs": [],
   "source": [
    "import pandas as pd\n",
    "import urllib\n",
    "import json\n",
    "import requests\n",
    "import re\n",
    "from bs4 import BeautifulSoup\n",
    "from lxml import html\n",
    "from lxml import etree\n",
    "from collections import deque\n",
    "import xml.etree.ElementTree as ET\n",
    "import os"
   ]
  },
  {
   "cell_type": "code",
   "execution_count": 13,
   "metadata": {},
   "outputs": [],
   "source": [
    "import requests\n",
    "from lxml import html\n",
    "import csv\n"
   ]
  },
  {
   "cell_type": "code",
   "execution_count": 124,
   "metadata": {},
   "outputs": [],
   "source": [
    "\"\"\"3월 1,2,3일자 중앙일보 뉴스\"\"\"\n",
    "# 사이트 주소의 기본 부분\n",
    "base_url = \"https://www.joongang.co.kr/article/\"\n",
    "\n",
    "# 숫자 부분을 변경하려면 이 부분을 수정하십시오.\n",
    "numbers = range(25142000, 25144608)\n",
    "\n",
    "# 라벨 목록\n",
    "labels = ['정치', '경제', '사회', '국제', '문화']\n",
    "\n",
    "# CSV 파일 열기\n",
    "with open('JAarticle.csv', 'w', newline='', encoding='utf-8') as f:\n",
    "    writer = csv.writer(f)\n",
    "    # 헤더 작성\n",
    "    writer.writerow(['URL', 'Article', 'Label'])\n",
    "\n",
    "    for number in numbers:\n",
    "        # 완전한 URL 생성\n",
    "        url = base_url + str(number)\n",
    "\n",
    "        # 웹 페이지 가져오기\n",
    "        response = requests.get(url)\n",
    "\n",
    "        # HTML 파싱\n",
    "        tree = html.fromstring(response.content)\n",
    "\n",
    "        # 요소에서 data-evnt-lbl 값 확인\n",
    "        data_evnt_lbl = tree.xpath('//*[@id=\"container\"]/section/article/header/div[1]/a[1]/@data-evnt-lbl')\n",
    "\n",
    "        # data-evnt-lbl 값이 라벨 목록에 있는 경우만 처리\n",
    "        for label in labels:\n",
    "            if label in data_evnt_lbl:\n",
    "                # XPath 경로에 해당하는 자료 추출\n",
    "                texts = tree.xpath('//p[@data-divno]/text()')\n",
    "\n",
    "                # 추출한 자료를 하나의 문자열로 합치기\n",
    "                article = '\\n'.join(texts)\n",
    "\n",
    "                # 합친 자료와 라벨을 CSV 파일에 기록\n",
    "                writer.writerow([url, article, label])\n"
   ]
  },
  {
   "cell_type": "code",
   "execution_count": 359,
   "metadata": {},
   "outputs": [
    {
     "data": {
      "text/html": [
       "<div>\n",
       "<style scoped>\n",
       "    .dataframe tbody tr th:only-of-type {\n",
       "        vertical-align: middle;\n",
       "    }\n",
       "\n",
       "    .dataframe tbody tr th {\n",
       "        vertical-align: top;\n",
       "    }\n",
       "\n",
       "    .dataframe thead th {\n",
       "        text-align: right;\n",
       "    }\n",
       "</style>\n",
       "<table border=\"1\" class=\"dataframe\">\n",
       "  <thead>\n",
       "    <tr style=\"text-align: right;\">\n",
       "      <th></th>\n",
       "      <th>URL</th>\n",
       "      <th>Article</th>\n",
       "      <th>Label</th>\n",
       "    </tr>\n",
       "  </thead>\n",
       "  <tbody>\n",
       "    <tr>\n",
       "      <th>0</th>\n",
       "      <td>https://www.joongang.co.kr/article/25142000</td>\n",
       "      <td>미세플라스틱 중에서도 크기가 작은 나노플라스틱을 꿀벌이 섭취할 경우 ...</td>\n",
       "      <td>사회</td>\n",
       "    </tr>\n",
       "    <tr>\n",
       "      <th>1</th>\n",
       "      <td>https://www.joongang.co.kr/article/25142001</td>\n",
       "      <td>윤석열 정부의 대선 공약이자 강원도의 숙원 사업인 설악산 케이블카에 ...</td>\n",
       "      <td>사회</td>\n",
       "    </tr>\n",
       "    <tr>\n",
       "      <th>2</th>\n",
       "      <td>https://www.joongang.co.kr/article/25142002</td>\n",
       "      <td>본격적인 골프 성수기를 앞두고 골프웨어 업계가 분주하다. 백화점에 골프 전문관...</td>\n",
       "      <td>경제</td>\n",
       "    </tr>\n",
       "    <tr>\n",
       "      <th>3</th>\n",
       "      <td>https://www.joongang.co.kr/article/25142005</td>\n",
       "      <td>아이와 함께 일주일에 한 번, 한컷으로 된 중앙일보 만평으로 영어와 중국어를 공부해...</td>\n",
       "      <td>사회</td>\n",
       "    </tr>\n",
       "    <tr>\n",
       "      <th>4</th>\n",
       "      <td>https://www.joongang.co.kr/article/25142006</td>\n",
       "      <td>조 바이든 미국 대통령이 러시아의 우크라이나 침공 1주년(24일)을 앞둔 20...</td>\n",
       "      <td>국제</td>\n",
       "    </tr>\n",
       "  </tbody>\n",
       "</table>\n",
       "</div>"
      ],
      "text/plain": [
       "                                           URL  \\\n",
       "0  https://www.joongang.co.kr/article/25142000   \n",
       "1  https://www.joongang.co.kr/article/25142001   \n",
       "2  https://www.joongang.co.kr/article/25142002   \n",
       "3  https://www.joongang.co.kr/article/25142005   \n",
       "4  https://www.joongang.co.kr/article/25142006   \n",
       "\n",
       "                                             Article Label  \n",
       "0          미세플라스틱 중에서도 크기가 작은 나노플라스틱을 꿀벌이 섭취할 경우 ...    사회  \n",
       "1          윤석열 정부의 대선 공약이자 강원도의 숙원 사업인 설악산 케이블카에 ...    사회  \n",
       "2     본격적인 골프 성수기를 앞두고 골프웨어 업계가 분주하다. 백화점에 골프 전문관...    경제  \n",
       "3  아이와 함께 일주일에 한 번, 한컷으로 된 중앙일보 만평으로 영어와 중국어를 공부해...    사회  \n",
       "4     조 바이든 미국 대통령이 러시아의 우크라이나 침공 1주년(24일)을 앞둔 20...    국제  "
      ]
     },
     "execution_count": 359,
     "metadata": {},
     "output_type": "execute_result"
    }
   ],
   "source": [
    "# CSV 파일 읽기\n",
    "df = pd.read_csv('JAarticle.csv')\n",
    "\n",
    "# 데이터프레임 확인\n",
    "df.head()"
   ]
  },
  {
   "cell_type": "code",
   "execution_count": 360,
   "metadata": {},
   "outputs": [
    {
     "data": {
      "text/plain": [
       "Label\n",
       "사회    604\n",
       "정치    466\n",
       "경제    455\n",
       "국제    214\n",
       "문화     93\n",
       "Name: count, dtype: int64"
      ]
     },
     "execution_count": 360,
     "metadata": {},
     "output_type": "execute_result"
    }
   ],
   "source": [
    "# 라벨링 된 데이터 가지수 확인\n",
    "df['Label'].value_counts()"
   ]
  },
  {
   "cell_type": "code",
   "execution_count": 361,
   "metadata": {},
   "outputs": [
    {
     "data": {
      "text/plain": [
       "URL        0\n",
       "Article    3\n",
       "Label      0\n",
       "dtype: int64"
      ]
     },
     "execution_count": 361,
     "metadata": {},
     "output_type": "execute_result"
    }
   ],
   "source": [
    "# 결측치 확인\n",
    "df.isnull().sum()"
   ]
  },
  {
   "cell_type": "code",
   "execution_count": 362,
   "metadata": {},
   "outputs": [],
   "source": [
    "# null값 삭제\n",
    "df.dropna(inplace=True)"
   ]
  },
  {
   "cell_type": "code",
   "execution_count": 363,
   "metadata": {},
   "outputs": [
    {
     "data": {
      "text/plain": [
       "Label\n",
       "사회    601\n",
       "정치    466\n",
       "경제    455\n",
       "국제    214\n",
       "문화     93\n",
       "Name: count, dtype: int64"
      ]
     },
     "execution_count": 363,
     "metadata": {},
     "output_type": "execute_result"
    }
   ],
   "source": [
    "df.Label.value_counts()"
   ]
  },
  {
   "cell_type": "code",
   "execution_count": 364,
   "metadata": {},
   "outputs": [
    {
     "data": {
      "text/html": [
       "<div>\n",
       "<style scoped>\n",
       "    .dataframe tbody tr th:only-of-type {\n",
       "        vertical-align: middle;\n",
       "    }\n",
       "\n",
       "    .dataframe tbody tr th {\n",
       "        vertical-align: top;\n",
       "    }\n",
       "\n",
       "    .dataframe thead th {\n",
       "        text-align: right;\n",
       "    }\n",
       "</style>\n",
       "<table border=\"1\" class=\"dataframe\">\n",
       "  <thead>\n",
       "    <tr style=\"text-align: right;\">\n",
       "      <th></th>\n",
       "      <th>URL</th>\n",
       "      <th>Article</th>\n",
       "      <th>Label</th>\n",
       "    </tr>\n",
       "  </thead>\n",
       "  <tbody>\n",
       "    <tr>\n",
       "      <th>835</th>\n",
       "      <td>https://www.joongang.co.kr/article/25143213</td>\n",
       "      <td>올해 서울 초등교사 임용 시험 합격자 114명 전원이 학교를 배정받지...</td>\n",
       "      <td>사회</td>\n",
       "    </tr>\n",
       "    <tr>\n",
       "      <th>539</th>\n",
       "      <td>https://www.joongang.co.kr/article/25142736</td>\n",
       "      <td>우리공화당이 오세훈 서울시장이 거주하는 서울 광진구 자양동 자택 앞에서 열흘 ...</td>\n",
       "      <td>사회</td>\n",
       "    </tr>\n",
       "    <tr>\n",
       "      <th>1086</th>\n",
       "      <td>https://www.joongang.co.kr/article/25143548</td>\n",
       "      <td>국내 원전에서 발생하는 고준위 방사성 폐기물(사용후 핵연료)을 원전 ...</td>\n",
       "      <td>사회</td>\n",
       "    </tr>\n",
       "    <tr>\n",
       "      <th>465</th>\n",
       "      <td>https://www.joongang.co.kr/article/25142647</td>\n",
       "      <td>“엄마, 걔가 나 또 괴롭혔어.” 부산에 사는 40대 학부모 A씨는 2021년...</td>\n",
       "      <td>사회</td>\n",
       "    </tr>\n",
       "    <tr>\n",
       "      <th>1074</th>\n",
       "      <td>https://www.joongang.co.kr/article/25143530</td>\n",
       "      <td>부산의 낮 최고기온이 15도까지 오른 27일 해운대해수욕장을 찾은 어...</td>\n",
       "      <td>사회</td>\n",
       "    </tr>\n",
       "  </tbody>\n",
       "</table>\n",
       "</div>"
      ],
      "text/plain": [
       "                                              URL  \\\n",
       "835   https://www.joongang.co.kr/article/25143213   \n",
       "539   https://www.joongang.co.kr/article/25142736   \n",
       "1086  https://www.joongang.co.kr/article/25143548   \n",
       "465   https://www.joongang.co.kr/article/25142647   \n",
       "1074  https://www.joongang.co.kr/article/25143530   \n",
       "\n",
       "                                                Article Label  \n",
       "835           올해 서울 초등교사 임용 시험 합격자 114명 전원이 학교를 배정받지...    사회  \n",
       "539      우리공화당이 오세훈 서울시장이 거주하는 서울 광진구 자양동 자택 앞에서 열흘 ...    사회  \n",
       "1086          국내 원전에서 발생하는 고준위 방사성 폐기물(사용후 핵연료)을 원전 ...    사회  \n",
       "465      “엄마, 걔가 나 또 괴롭혔어.” 부산에 사는 40대 학부모 A씨는 2021년...    사회  \n",
       "1074          부산의 낮 최고기온이 15도까지 오른 27일 해운대해수욕장을 찾은 어...    사회  "
      ]
     },
     "execution_count": 364,
     "metadata": {},
     "output_type": "execute_result"
    }
   ],
   "source": [
    "# '문화'인 행을 삭제 (데이터가 너무 작음)\n",
    "df = df[df.Label != '문화']\n",
    "\n",
    "# '사회', '정치', '경제', '국제' 각각에서 214개씩 랜덤하게 선택 (최소치에 맞춤)\n",
    "labels = ['사회', '정치', '경제', '국제']\n",
    "sampled_df = pd.concat([df[df.Label == label].sample(214) for label in labels])\n",
    "\n",
    "sampled_df.head()"
   ]
  },
  {
   "cell_type": "code",
   "execution_count": 365,
   "metadata": {},
   "outputs": [
    {
     "data": {
      "text/plain": [
       "Label\n",
       "사회    214\n",
       "정치    214\n",
       "경제    214\n",
       "국제    214\n",
       "Name: count, dtype: int64"
      ]
     },
     "execution_count": 365,
     "metadata": {},
     "output_type": "execute_result"
    }
   ],
   "source": [
    "sampled_df.Label.value_counts()"
   ]
  },
  {
   "cell_type": "code",
   "execution_count": 366,
   "metadata": {},
   "outputs": [
    {
     "data": {
      "text/html": [
       "<div>\n",
       "<style scoped>\n",
       "    .dataframe tbody tr th:only-of-type {\n",
       "        vertical-align: middle;\n",
       "    }\n",
       "\n",
       "    .dataframe tbody tr th {\n",
       "        vertical-align: top;\n",
       "    }\n",
       "\n",
       "    .dataframe thead th {\n",
       "        text-align: right;\n",
       "    }\n",
       "</style>\n",
       "<table border=\"1\" class=\"dataframe\">\n",
       "  <thead>\n",
       "    <tr style=\"text-align: right;\">\n",
       "      <th></th>\n",
       "      <th>URL</th>\n",
       "      <th>Article</th>\n",
       "      <th>Label</th>\n",
       "    </tr>\n",
       "  </thead>\n",
       "  <tbody>\n",
       "    <tr>\n",
       "      <th>835</th>\n",
       "      <td>https://www.joongang.co.kr/article/25143213</td>\n",
       "      <td>올해 서울 초등교사 임용 시험 합격자 114명 전원이 학교를 배정받지...</td>\n",
       "      <td>사회</td>\n",
       "    </tr>\n",
       "    <tr>\n",
       "      <th>539</th>\n",
       "      <td>https://www.joongang.co.kr/article/25142736</td>\n",
       "      <td>우리공화당이 오세훈 서울시장이 거주하는 서울 광진구 자양동 자택 앞에서 열흘 ...</td>\n",
       "      <td>사회</td>\n",
       "    </tr>\n",
       "    <tr>\n",
       "      <th>1086</th>\n",
       "      <td>https://www.joongang.co.kr/article/25143548</td>\n",
       "      <td>국내 원전에서 발생하는 고준위 방사성 폐기물(사용후 핵연료)을 원전 ...</td>\n",
       "      <td>사회</td>\n",
       "    </tr>\n",
       "    <tr>\n",
       "      <th>465</th>\n",
       "      <td>https://www.joongang.co.kr/article/25142647</td>\n",
       "      <td>“엄마, 걔가 나 또 괴롭혔어.” 부산에 사는 40대 학부모 A씨는 2021년...</td>\n",
       "      <td>사회</td>\n",
       "    </tr>\n",
       "    <tr>\n",
       "      <th>1074</th>\n",
       "      <td>https://www.joongang.co.kr/article/25143530</td>\n",
       "      <td>부산의 낮 최고기온이 15도까지 오른 27일 해운대해수욕장을 찾은 어...</td>\n",
       "      <td>사회</td>\n",
       "    </tr>\n",
       "  </tbody>\n",
       "</table>\n",
       "</div>"
      ],
      "text/plain": [
       "                                              URL  \\\n",
       "835   https://www.joongang.co.kr/article/25143213   \n",
       "539   https://www.joongang.co.kr/article/25142736   \n",
       "1086  https://www.joongang.co.kr/article/25143548   \n",
       "465   https://www.joongang.co.kr/article/25142647   \n",
       "1074  https://www.joongang.co.kr/article/25143530   \n",
       "\n",
       "                                                Article Label  \n",
       "835           올해 서울 초등교사 임용 시험 합격자 114명 전원이 학교를 배정받지...    사회  \n",
       "539      우리공화당이 오세훈 서울시장이 거주하는 서울 광진구 자양동 자택 앞에서 열흘 ...    사회  \n",
       "1086          국내 원전에서 발생하는 고준위 방사성 폐기물(사용후 핵연료)을 원전 ...    사회  \n",
       "465      “엄마, 걔가 나 또 괴롭혔어.” 부산에 사는 40대 학부모 A씨는 2021년...    사회  \n",
       "1074          부산의 낮 최고기온이 15도까지 오른 27일 해운대해수욕장을 찾은 어...    사회  "
      ]
     },
     "execution_count": 366,
     "metadata": {},
     "output_type": "execute_result"
    }
   ],
   "source": [
    "sampled_df.head()"
   ]
  },
  {
   "cell_type": "code",
   "execution_count": 367,
   "metadata": {},
   "outputs": [],
   "source": [
    "# 행 인덱스 삭제\n",
    "df_new = sampled_df.reset_index(drop=True)"
   ]
  },
  {
   "cell_type": "code",
   "execution_count": 368,
   "metadata": {},
   "outputs": [
    {
     "data": {
      "text/html": [
       "<div>\n",
       "<style scoped>\n",
       "    .dataframe tbody tr th:only-of-type {\n",
       "        vertical-align: middle;\n",
       "    }\n",
       "\n",
       "    .dataframe tbody tr th {\n",
       "        vertical-align: top;\n",
       "    }\n",
       "\n",
       "    .dataframe thead th {\n",
       "        text-align: right;\n",
       "    }\n",
       "</style>\n",
       "<table border=\"1\" class=\"dataframe\">\n",
       "  <thead>\n",
       "    <tr style=\"text-align: right;\">\n",
       "      <th></th>\n",
       "      <th>URL</th>\n",
       "      <th>Article</th>\n",
       "      <th>Label</th>\n",
       "    </tr>\n",
       "  </thead>\n",
       "  <tbody>\n",
       "    <tr>\n",
       "      <th>0</th>\n",
       "      <td>https://www.joongang.co.kr/article/25143213</td>\n",
       "      <td>올해 서울 초등교사 임용 시험 합격자 114명 전원이 학교를 배정받지...</td>\n",
       "      <td>사회</td>\n",
       "    </tr>\n",
       "    <tr>\n",
       "      <th>1</th>\n",
       "      <td>https://www.joongang.co.kr/article/25142736</td>\n",
       "      <td>우리공화당이 오세훈 서울시장이 거주하는 서울 광진구 자양동 자택 앞에서 열흘 ...</td>\n",
       "      <td>사회</td>\n",
       "    </tr>\n",
       "    <tr>\n",
       "      <th>2</th>\n",
       "      <td>https://www.joongang.co.kr/article/25143548</td>\n",
       "      <td>국내 원전에서 발생하는 고준위 방사성 폐기물(사용후 핵연료)을 원전 ...</td>\n",
       "      <td>사회</td>\n",
       "    </tr>\n",
       "    <tr>\n",
       "      <th>3</th>\n",
       "      <td>https://www.joongang.co.kr/article/25142647</td>\n",
       "      <td>“엄마, 걔가 나 또 괴롭혔어.” 부산에 사는 40대 학부모 A씨는 2021년...</td>\n",
       "      <td>사회</td>\n",
       "    </tr>\n",
       "    <tr>\n",
       "      <th>4</th>\n",
       "      <td>https://www.joongang.co.kr/article/25143530</td>\n",
       "      <td>부산의 낮 최고기온이 15도까지 오른 27일 해운대해수욕장을 찾은 어...</td>\n",
       "      <td>사회</td>\n",
       "    </tr>\n",
       "  </tbody>\n",
       "</table>\n",
       "</div>"
      ],
      "text/plain": [
       "                                           URL  \\\n",
       "0  https://www.joongang.co.kr/article/25143213   \n",
       "1  https://www.joongang.co.kr/article/25142736   \n",
       "2  https://www.joongang.co.kr/article/25143548   \n",
       "3  https://www.joongang.co.kr/article/25142647   \n",
       "4  https://www.joongang.co.kr/article/25143530   \n",
       "\n",
       "                                             Article Label  \n",
       "0          올해 서울 초등교사 임용 시험 합격자 114명 전원이 학교를 배정받지...    사회  \n",
       "1     우리공화당이 오세훈 서울시장이 거주하는 서울 광진구 자양동 자택 앞에서 열흘 ...    사회  \n",
       "2          국내 원전에서 발생하는 고준위 방사성 폐기물(사용후 핵연료)을 원전 ...    사회  \n",
       "3     “엄마, 걔가 나 또 괴롭혔어.” 부산에 사는 40대 학부모 A씨는 2021년...    사회  \n",
       "4          부산의 낮 최고기온이 15도까지 오른 27일 해운대해수욕장을 찾은 어...    사회  "
      ]
     },
     "execution_count": 368,
     "metadata": {},
     "output_type": "execute_result"
    }
   ],
   "source": [
    "df_new.head()"
   ]
  },
  {
   "cell_type": "code",
   "execution_count": 369,
   "metadata": {},
   "outputs": [],
   "source": [
    "# lambda 적용하여 Article 칼럼 내 value들에 대하여 정규표현식 활용하여 전처리 진행\n",
    "# 한글과 숫자 그리고 쉼표 마짐표 공백을 제외한 문자들 전부 삭제 (Mecab() 토크나이저를 적용한다고 가정)\n",
    "df_new['Article'] = df_new['Article'].apply(lambda x: re.sub('[^가-힣0-9.,\\\\s]', '', x))\n"
   ]
  },
  {
   "cell_type": "code",
   "execution_count": 370,
   "metadata": {},
   "outputs": [
    {
     "data": {
      "text/html": [
       "<div>\n",
       "<style scoped>\n",
       "    .dataframe tbody tr th:only-of-type {\n",
       "        vertical-align: middle;\n",
       "    }\n",
       "\n",
       "    .dataframe tbody tr th {\n",
       "        vertical-align: top;\n",
       "    }\n",
       "\n",
       "    .dataframe thead th {\n",
       "        text-align: right;\n",
       "    }\n",
       "</style>\n",
       "<table border=\"1\" class=\"dataframe\">\n",
       "  <thead>\n",
       "    <tr style=\"text-align: right;\">\n",
       "      <th></th>\n",
       "      <th>URL</th>\n",
       "      <th>Article</th>\n",
       "      <th>Label</th>\n",
       "    </tr>\n",
       "  </thead>\n",
       "  <tbody>\n",
       "    <tr>\n",
       "      <th>0</th>\n",
       "      <td>https://www.joongang.co.kr/article/25143213</td>\n",
       "      <td>올해 서울 초등교사 임용 시험 합격자 114명 전원이 학교를 배정받지...</td>\n",
       "      <td>사회</td>\n",
       "    </tr>\n",
       "    <tr>\n",
       "      <th>1</th>\n",
       "      <td>https://www.joongang.co.kr/article/25142736</td>\n",
       "      <td>우리공화당이 오세훈 서울시장이 거주하는 서울 광진구 자양동 자택 앞에서 열흘 ...</td>\n",
       "      <td>사회</td>\n",
       "    </tr>\n",
       "    <tr>\n",
       "      <th>2</th>\n",
       "      <td>https://www.joongang.co.kr/article/25143548</td>\n",
       "      <td>국내 원전에서 발생하는 고준위 방사성 폐기물사용후 핵연료을 원전 바깥...</td>\n",
       "      <td>사회</td>\n",
       "    </tr>\n",
       "    <tr>\n",
       "      <th>3</th>\n",
       "      <td>https://www.joongang.co.kr/article/25142647</td>\n",
       "      <td>엄마, 걔가 나 또 괴롭혔어. 부산에 사는 40대 학부모 씨는 2021년 9월...</td>\n",
       "      <td>사회</td>\n",
       "    </tr>\n",
       "    <tr>\n",
       "      <th>4</th>\n",
       "      <td>https://www.joongang.co.kr/article/25143530</td>\n",
       "      <td>부산의 낮 최고기온이 15도까지 오른 27일 해운대해수욕장을 찾은 어...</td>\n",
       "      <td>사회</td>\n",
       "    </tr>\n",
       "  </tbody>\n",
       "</table>\n",
       "</div>"
      ],
      "text/plain": [
       "                                           URL  \\\n",
       "0  https://www.joongang.co.kr/article/25143213   \n",
       "1  https://www.joongang.co.kr/article/25142736   \n",
       "2  https://www.joongang.co.kr/article/25143548   \n",
       "3  https://www.joongang.co.kr/article/25142647   \n",
       "4  https://www.joongang.co.kr/article/25143530   \n",
       "\n",
       "                                             Article Label  \n",
       "0          올해 서울 초등교사 임용 시험 합격자 114명 전원이 학교를 배정받지...    사회  \n",
       "1     우리공화당이 오세훈 서울시장이 거주하는 서울 광진구 자양동 자택 앞에서 열흘 ...    사회  \n",
       "2          국내 원전에서 발생하는 고준위 방사성 폐기물사용후 핵연료을 원전 바깥...    사회  \n",
       "3     엄마, 걔가 나 또 괴롭혔어. 부산에 사는 40대 학부모 씨는 2021년 9월...    사회  \n",
       "4          부산의 낮 최고기온이 15도까지 오른 27일 해운대해수욕장을 찾은 어...    사회  "
      ]
     },
     "execution_count": 370,
     "metadata": {},
     "output_type": "execute_result"
    }
   ],
   "source": [
    "df_new.head()"
   ]
  },
  {
   "cell_type": "code",
   "execution_count": 371,
   "metadata": {},
   "outputs": [],
   "source": [
    "# 중간 저장\n",
    "df_new.to_csv('JAarticle_process.csv', index=False)"
   ]
  },
  {
   "cell_type": "code",
   "execution_count": 372,
   "metadata": {},
   "outputs": [],
   "source": [
    "# 불러오기\n",
    "df_pr = pd.read_csv('JAarticle_process.csv')"
   ]
  },
  {
   "cell_type": "code",
   "execution_count": 373,
   "metadata": {},
   "outputs": [
    {
     "name": "stdout",
     "output_type": "stream",
     "text": [
      "4406\n",
      "1\n"
     ]
    }
   ],
   "source": [
    "# 문자열로 접근 (숫자형 예컨데 float인 경우에는 len을 사용할 수없어짐)\n",
    "df_pr['Article'] = df_pr['Article'].astype(str)\n",
    "\n",
    "# len을 적용한 최대값 저장\n",
    "max_length = df_pr['Article'].apply(len).max()\n",
    "\n",
    "\"\"\"출력 8235\"\"\"\n",
    "\n",
    "\n",
    "\n",
    "# min을 적용한 최솟값 저장\n",
    "min_length = df_pr['Article'].apply(len).min()\n",
    "\"\"\"출력 1\"\"\"\n",
    "\n",
    "print(max_length)\n",
    "print(min_length)"
   ]
  },
  {
   "cell_type": "code",
   "execution_count": 374,
   "metadata": {},
   "outputs": [
    {
     "name": "stdout",
     "output_type": "stream",
     "text": [
      "1819\n",
      "393\n"
     ]
    }
   ],
   "source": [
    "# 'Article' 칼럼의 각 값에 대해 문자열 길이 계산 (문자열로 접근)\n",
    "lengths = df_pr['Article'].astype(str).apply(len)\n",
    "\n",
    "# 문자열 길이를 정렬\n",
    "sorted_lengths = sorted(lengths)\n",
    "\n",
    "# 전체 개수 계산\n",
    "total = len(sorted_lengths)\n",
    "\n",
    "# 상위 10%에 해당하는 위치의 값 찾기\n",
    "top_10_percent = sorted_lengths[int(0.9 * total)]\n",
    "\"\"\"1976\"\"\"\n",
    "\n",
    "# 하위 10%에 해당하는 위치의 값 찾기\n",
    "bottom_10_percent = sorted_lengths[int(0.1 * total)]\n",
    "\"\"\"431\"\"\"\n",
    "\n",
    "print(top_10_percent)\n",
    "print(bottom_10_percent)"
   ]
  },
  {
   "cell_type": "code",
   "execution_count": 375,
   "metadata": {},
   "outputs": [
    {
     "data": {
      "image/png": "[encoded data removed]",
      "text/plain": [
       "<Figure size 640x480 with 1 Axes>"
      ]
     },
     "metadata": {},
     "output_type": "display_data"
    }
   ],
   "source": [
    "import matplotlib.pyplot as plt\n",
    "\n",
    "# 'Article' 칼럼의 각 값에 대해 문자열로 변환\n",
    "df_pr['Article'] = df_pr['Article'].astype(str)\n",
    "\n",
    "# 각 문자열의 길이 계산\n",
    "lengths = df_pr['Article'].apply(len)\n",
    "\n",
    "# 길이의 분포 시각화\n",
    "plt.hist(lengths, bins=20, alpha=0.5)\n",
    "plt.title('Distribution of String Lengths in \"Article\" Column')\n",
    "plt.xlabel('String Length')\n",
    "plt.ylabel('Frequency')\n",
    "plt.show()"
   ]
  },
  {
   "cell_type": "code",
   "execution_count": 376,
   "metadata": {},
   "outputs": [
    {
     "data": {
      "text/plain": [
       "\"오류코드\\n이러면 ''공백처리가 되지 결측치 값으로 처리되지 않아서 insull().sum()에 잡히지 않음.\\n# 문자열 길이가 100 이하면 결측치로 만들어버리기 (너무 짧거나 길면 해당 행 삭제)\\ndf_new['Article'] = df_new['Article'].apply(lambda x: '' if len(x) <= 500 or len(x) >=2500 else x)\\n\""
      ]
     },
     "execution_count": 376,
     "metadata": {},
     "output_type": "execute_result"
    }
   ],
   "source": [
    "\"\"\"오류코드\n",
    "Article 칼럼 내에 float타입의 값이 있어서 len 안에 인자로 넣을 수 없었음.\n",
    "\n",
    "df_new['Article'] = df_new['Article'].apply(lambda x: '' if len(x) <= 50 else x)\n",
    "\n",
    "df_new['Article'] = df_new['Article'].apply(lambda x: '' if x.count(' ') / len(x) >= 0.5 else x)\n",
    "\"\"\"\n",
    "\n",
    "\"\"\"오류코드\n",
    "이러면 ''공백처리가 되지 결측치 값으로 처리되지 않아서 insull().sum()에 잡히지 않음.\n",
    "# 문자열 길이가 100 이하면 결측치로 만들어버리기 (너무 짧거나 길면 해당 행 삭제)\n",
    "df_new['Article'] = df_new['Article'].apply(lambda x: '' if len(x) <= 500 or len(x) >=2500 else x)\n",
    "\"\"\""
   ]
  },
  {
   "cell_type": "code",
   "execution_count": 377,
   "metadata": {},
   "outputs": [
    {
     "data": {
      "text/plain": [
       "166"
      ]
     },
     "execution_count": 377,
     "metadata": {},
     "output_type": "execute_result"
    }
   ],
   "source": [
    "import numpy as np\n",
    "\n",
    "df_pr['Article'] = df_pr['Article'].astype(str).apply(lambda x: np.nan if len(x) <= 431 or len(x) >= 1976 else x)\n",
    "\n",
    "df_pr['Article'].isnull().sum()"
   ]
  },
  {
   "cell_type": "code",
   "execution_count": 378,
   "metadata": {},
   "outputs": [],
   "source": [
    "# 해당 null 값 삭제\n",
    "df_pr.dropna(inplace = True)"
   ]
  },
  {
   "cell_type": "code",
   "execution_count": 379,
   "metadata": {},
   "outputs": [
    {
     "data": {
      "text/plain": [
       "0"
      ]
     },
     "execution_count": 379,
     "metadata": {},
     "output_type": "execute_result"
    }
   ],
   "source": [
    "\n",
    "# 문자열 중에서 spacebar가 차지하는 비중이 반할이면 결측치로 만들어버리기\n",
    "df_pr['Article'] = df_pr['Article'].astype(str).apply(lambda x: np.nan if x.count(' ') / len(x) >= 0.3 else x)\n",
    "\n",
    "df_pr['Article'].isnull().sum()"
   ]
  },
  {
   "cell_type": "code",
   "execution_count": 380,
   "metadata": {},
   "outputs": [],
   "source": [
    "# 해당 null 값 삭제\n",
    "df_pr.dropna(inplace = True)"
   ]
  },
  {
   "cell_type": "code",
   "execution_count": 381,
   "metadata": {},
   "outputs": [
    {
     "data": {
      "text/plain": [
       "Label\n",
       "정치    194\n",
       "국제    177\n",
       "경제    161\n",
       "사회    158\n",
       "Name: count, dtype: int64"
      ]
     },
     "execution_count": 381,
     "metadata": {},
     "output_type": "execute_result"
    }
   ],
   "source": [
    "df_pr['Label'].value_counts()"
   ]
  },
  {
   "cell_type": "code",
   "execution_count": 382,
   "metadata": {},
   "outputs": [
    {
     "data": {
      "image/png": "[encoded data removed]",
      "text/plain": [
       "<Figure size 640x480 with 1 Axes>"
      ]
     },
     "metadata": {},
     "output_type": "display_data"
    }
   ],
   "source": [
    "import matplotlib.pyplot as plt\n",
    "\n",
    "# 'Article' 칼럼의 각 값에 대해 문자열로 변환\n",
    "df_pr['Article'] = df_pr['Article'].astype(str)\n",
    "\n",
    "# 각 문자열의 길이 계산\n",
    "lengths = df_pr['Article'].apply(len)\n",
    "\n",
    "# 길이의 분포 시각화\n",
    "plt.hist(lengths, bins=20, alpha=0.5)\n",
    "plt.title('Distribution of String Lengths in \"Article\" Column')\n",
    "plt.xlabel('String Length')\n",
    "plt.ylabel('Frequency')\n",
    "plt.show()"
   ]
  },
  {
   "cell_type": "code",
   "execution_count": 383,
   "metadata": {},
   "outputs": [],
   "source": [
    "labels = ['사회', '정치', '경제', '국제']\n",
    "df_last = pd.concat([df_pr[df_pr.Label == label].sample(150) for label in labels])"
   ]
  },
  {
   "cell_type": "code",
   "execution_count": 384,
   "metadata": {},
   "outputs": [],
   "source": [
    "df_last.to_csv('hskhyl.csv', index = False)"
   ]
  },
  {
   "cell_type": "code",
   "execution_count": 385,
   "metadata": {},
   "outputs": [
    {
     "data": {
      "text/html": [
       "<div>\n",
       "<style scoped>\n",
       "    .dataframe tbody tr th:only-of-type {\n",
       "        vertical-align: middle;\n",
       "    }\n",
       "\n",
       "    .dataframe tbody tr th {\n",
       "        vertical-align: top;\n",
       "    }\n",
       "\n",
       "    .dataframe thead th {\n",
       "        text-align: right;\n",
       "    }\n",
       "</style>\n",
       "<table border=\"1\" class=\"dataframe\">\n",
       "  <thead>\n",
       "    <tr style=\"text-align: right;\">\n",
       "      <th></th>\n",
       "      <th>URL</th>\n",
       "      <th>Article</th>\n",
       "      <th>Label</th>\n",
       "    </tr>\n",
       "  </thead>\n",
       "  <tbody>\n",
       "    <tr>\n",
       "      <th>80</th>\n",
       "      <td>https://www.joongang.co.kr/article/25143497</td>\n",
       "      <td>부산본부세관은 멸종위기종으로 지정돼 국제 거래가 금지된 고래고기 4....</td>\n",
       "      <td>사회</td>\n",
       "    </tr>\n",
       "    <tr>\n",
       "      <th>76</th>\n",
       "      <td>https://www.joongang.co.kr/article/25143484</td>\n",
       "      <td>허위 장애인 노동조합을 내세워 건설업체로부터 수천만원의 금품을 받아 ...</td>\n",
       "      <td>사회</td>\n",
       "    </tr>\n",
       "    <tr>\n",
       "      <th>98</th>\n",
       "      <td>https://www.joongang.co.kr/article/25143795</td>\n",
       "      <td>옹진군은 27일 의료시설이 열악한 섬과 종합병원을 연결짓는 1섬 1주...</td>\n",
       "      <td>사회</td>\n",
       "    </tr>\n",
       "    <tr>\n",
       "      <th>72</th>\n",
       "      <td>https://www.joongang.co.kr/article/25142339</td>\n",
       "      <td>4개월간 택시를 탈 때마다 좌석 가죽을 커터칼로 그어 훼손한 60대 승객이 구...</td>\n",
       "      <td>사회</td>\n",
       "    </tr>\n",
       "    <tr>\n",
       "      <th>208</th>\n",
       "      <td>https://www.joongang.co.kr/article/25142169</td>\n",
       "      <td>김학의 전 법무부 차관을 불법 출국금지한 혐의로 1심에서 무죄를 선고...</td>\n",
       "      <td>사회</td>\n",
       "    </tr>\n",
       "  </tbody>\n",
       "</table>\n",
       "</div>"
      ],
      "text/plain": [
       "                                             URL  \\\n",
       "80   https://www.joongang.co.kr/article/25143497   \n",
       "76   https://www.joongang.co.kr/article/25143484   \n",
       "98   https://www.joongang.co.kr/article/25143795   \n",
       "72   https://www.joongang.co.kr/article/25142339   \n",
       "208  https://www.joongang.co.kr/article/25142169   \n",
       "\n",
       "                                               Article Label  \n",
       "80           부산본부세관은 멸종위기종으로 지정돼 국제 거래가 금지된 고래고기 4....    사회  \n",
       "76           허위 장애인 노동조합을 내세워 건설업체로부터 수천만원의 금품을 받아 ...    사회  \n",
       "98           옹진군은 27일 의료시설이 열악한 섬과 종합병원을 연결짓는 1섬 1주...    사회  \n",
       "72      4개월간 택시를 탈 때마다 좌석 가죽을 커터칼로 그어 훼손한 60대 승객이 구...    사회  \n",
       "208          김학의 전 법무부 차관을 불법 출국금지한 혐의로 1심에서 무죄를 선고...    사회  "
      ]
     },
     "execution_count": 385,
     "metadata": {},
     "output_type": "execute_result"
    }
   ],
   "source": [
    "df_last.head()"
   ]
  }
 ],
 "metadata": {
  "kernelspec": {
   "display_name": "Python 3",
   "language": "python",
   "name": "python3"
  },
  "language_info": {
   "codemirror_mode": {
    "name": "ipython",
    "version": 3
   },
   "file_extension": ".py",
   "mimetype": "text/x-python",
   "name": "python",
   "nbconvert_exporter": "python",
   "pygments_lexer": "ipython3",
   "version": "3.11.8"
  }
 },
 "nbformat": 4,
 "nbformat_minor": 2
}
