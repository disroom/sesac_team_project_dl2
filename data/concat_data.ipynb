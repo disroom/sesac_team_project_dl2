{
 "cells": [
  {
   "cell_type": "code",
   "execution_count": 1,
   "metadata": {},
   "outputs": [
    {
     "name": "stdout",
     "output_type": "stream",
     "text": [
      "Requirement already satisfied: pandas in c:\\users\\r2com\\desktop\\project_text_classification\\seonggyun\\.conda\\lib\\site-packages (2.2.1)\n",
      "Requirement already satisfied: numpy<2,>=1.23.2 in c:\\users\\r2com\\desktop\\project_text_classification\\seonggyun\\.conda\\lib\\site-packages (from pandas) (1.26.4)\n",
      "Requirement already satisfied: python-dateutil>=2.8.2 in c:\\users\\r2com\\desktop\\project_text_classification\\seonggyun\\.conda\\lib\\site-packages (from pandas) (2.9.0)\n",
      "Requirement already satisfied: pytz>=2020.1 in c:\\users\\r2com\\desktop\\project_text_classification\\seonggyun\\.conda\\lib\\site-packages (from pandas) (2024.1)\n",
      "Requirement already satisfied: tzdata>=2022.7 in c:\\users\\r2com\\desktop\\project_text_classification\\seonggyun\\.conda\\lib\\site-packages (from pandas) (2024.1)\n",
      "Requirement already satisfied: six>=1.5 in c:\\users\\r2com\\desktop\\project_text_classification\\seonggyun\\.conda\\lib\\site-packages (from python-dateutil>=2.8.2->pandas) (1.16.0)\n"
     ]
    }
   ],
   "source": [
    "!pip install pandas"
   ]
  },
  {
   "cell_type": "code",
   "execution_count": 7,
   "metadata": {},
   "outputs": [],
   "source": [
    "df.to_csv(\"text_label.csv\", index = False)"
   ]
  },
  {
   "cell_type": "code",
   "execution_count": 1,
   "metadata": {},
   "outputs": [
    {
     "data": {
      "text/html": [
       "<div>\n",
       "<style scoped>\n",
       "    .dataframe tbody tr th:only-of-type {\n",
       "        vertical-align: middle;\n",
       "    }\n",
       "\n",
       "    .dataframe tbody tr th {\n",
       "        vertical-align: top;\n",
       "    }\n",
       "\n",
       "    .dataframe thead th {\n",
       "        text-align: right;\n",
       "    }\n",
       "</style>\n",
       "<table border=\"1\" class=\"dataframe\">\n",
       "  <thead>\n",
       "    <tr style=\"text-align: right;\">\n",
       "      <th></th>\n",
       "      <th>text</th>\n",
       "      <th>label</th>\n",
       "    </tr>\n",
       "  </thead>\n",
       "  <tbody>\n",
       "    <tr>\n",
       "      <th>0</th>\n",
       "      <td>메리츠증권 직원들이 업무 과정에서 알게 된 정보를 이용해 전환사채CB에 직접 투자한...</td>\n",
       "      <td>경제</td>\n",
       "    </tr>\n",
       "    <tr>\n",
       "      <th>1</th>\n",
       "      <td>고금리가 지속되며 정부가 청 주거 안정으로 내놓은 청 맞춤형 전세 대출에서도 체율이...</td>\n",
       "      <td>경제</td>\n",
       "    </tr>\n",
       "    <tr>\n",
       "      <th>2</th>\n",
       "      <td>휴 이후 개장한 국내 주식시장이 이스라엘과 하마스 전쟁 악재로 또 휘청였다 코스피는...</td>\n",
       "      <td>경제</td>\n",
       "    </tr>\n",
       "    <tr>\n",
       "      <th>3</th>\n",
       "      <td>올  이후 다시 증가하고 있는 가계대출은 정부의 주택 관련 정책금융 확대가 결정적인...</td>\n",
       "      <td>경제</td>\n",
       "    </tr>\n",
       "    <tr>\n",
       "      <th>4</th>\n",
       "      <td>올해 상반기 국내 가상자산 시장 시가총액이  늘어났다 가상자산 시장이 크립토 윈터로...</td>\n",
       "      <td>경제</td>\n",
       "    </tr>\n",
       "  </tbody>\n",
       "</table>\n",
       "</div>"
      ],
      "text/plain": [
       "                                                text label\n",
       "0  메리츠증권 직원들이 업무 과정에서 알게 된 정보를 이용해 전환사채CB에 직접 투자한...    경제\n",
       "1  고금리가 지속되며 정부가 청 주거 안정으로 내놓은 청 맞춤형 전세 대출에서도 체율이...    경제\n",
       "2  휴 이후 개장한 국내 주식시장이 이스라엘과 하마스 전쟁 악재로 또 휘청였다 코스피는...    경제\n",
       "3  올  이후 다시 증가하고 있는 가계대출은 정부의 주택 관련 정책금융 확대가 결정적인...    경제\n",
       "4  올해 상반기 국내 가상자산 시장 시가총액이  늘어났다 가상자산 시장이 크립토 윈터로...    경제"
      ]
     },
     "execution_count": 1,
     "metadata": {},
     "output_type": "execute_result"
    }
   ],
   "source": [
    "import pandas as pd\n",
    "\n",
    "# 첫 번째 CSV 파일\n",
    "df_disroom = pd.read_csv('disroom.csv')\n",
    "\n",
    "# 두 번째 CSV 파일\n",
    "df_seojunho97 = pd.read_csv('seojunho97.csv')\n",
    "\n",
    "# 세 번째 CSV 파일\n",
    "df_freamwork97 = pd.read_csv('freamwork97.csv')\n",
    "\n",
    "# 네 번째 CSV 파일\n",
    "df_hskhyl = pd.read_csv('hskhyl.csv')\n",
    "\n",
    "\n",
    "\n",
    "# 두 DataFrame을 합칩니다.\n",
    "df = pd.concat([df_disroom, df_seojunho97, df_freamwork97, df_hskhyl])\n",
    "\n",
    "# 결과를 출력합니다.\n",
    "df.head()\n"
   ]
  },
  {
   "cell_type": "code",
   "execution_count": 2,
   "metadata": {},
   "outputs": [],
   "source": [
    "df = df.reset_index(drop=True)"
   ]
  },
  {
   "cell_type": "code",
   "execution_count": 3,
   "metadata": {},
   "outputs": [
    {
     "data": {
      "text/html": [
       "<div>\n",
       "<style scoped>\n",
       "    .dataframe tbody tr th:only-of-type {\n",
       "        vertical-align: middle;\n",
       "    }\n",
       "\n",
       "    .dataframe tbody tr th {\n",
       "        vertical-align: top;\n",
       "    }\n",
       "\n",
       "    .dataframe thead th {\n",
       "        text-align: right;\n",
       "    }\n",
       "</style>\n",
       "<table border=\"1\" class=\"dataframe\">\n",
       "  <thead>\n",
       "    <tr style=\"text-align: right;\">\n",
       "      <th></th>\n",
       "      <th>text</th>\n",
       "      <th>label</th>\n",
       "    </tr>\n",
       "  </thead>\n",
       "  <tbody>\n",
       "    <tr>\n",
       "      <th>0</th>\n",
       "      <td>메리츠증권 직원들이 업무 과정에서 알게 된 정보를 이용해 전환사채CB에 직접 투자한...</td>\n",
       "      <td>경제</td>\n",
       "    </tr>\n",
       "    <tr>\n",
       "      <th>1</th>\n",
       "      <td>고금리가 지속되며 정부가 청 주거 안정으로 내놓은 청 맞춤형 전세 대출에서도 체율이...</td>\n",
       "      <td>경제</td>\n",
       "    </tr>\n",
       "    <tr>\n",
       "      <th>2</th>\n",
       "      <td>휴 이후 개장한 국내 주식시장이 이스라엘과 하마스 전쟁 악재로 또 휘청였다 코스피는...</td>\n",
       "      <td>경제</td>\n",
       "    </tr>\n",
       "    <tr>\n",
       "      <th>3</th>\n",
       "      <td>올  이후 다시 증가하고 있는 가계대출은 정부의 주택 관련 정책금융 확대가 결정적인...</td>\n",
       "      <td>경제</td>\n",
       "    </tr>\n",
       "    <tr>\n",
       "      <th>4</th>\n",
       "      <td>올해 상반기 국내 가상자산 시장 시가총액이  늘어났다 가상자산 시장이 크립토 윈터로...</td>\n",
       "      <td>경제</td>\n",
       "    </tr>\n",
       "  </tbody>\n",
       "</table>\n",
       "</div>"
      ],
      "text/plain": [
       "                                                text label\n",
       "0  메리츠증권 직원들이 업무 과정에서 알게 된 정보를 이용해 전환사채CB에 직접 투자한...    경제\n",
       "1  고금리가 지속되며 정부가 청 주거 안정으로 내놓은 청 맞춤형 전세 대출에서도 체율이...    경제\n",
       "2  휴 이후 개장한 국내 주식시장이 이스라엘과 하마스 전쟁 악재로 또 휘청였다 코스피는...    경제\n",
       "3  올  이후 다시 증가하고 있는 가계대출은 정부의 주택 관련 정책금융 확대가 결정적인...    경제\n",
       "4  올해 상반기 국내 가상자산 시장 시가총액이  늘어났다 가상자산 시장이 크립토 윈터로...    경제"
      ]
     },
     "execution_count": 3,
     "metadata": {},
     "output_type": "execute_result"
    }
   ],
   "source": [
    "df.head()"
   ]
  },
  {
   "cell_type": "code",
   "execution_count": 6,
   "metadata": {},
   "outputs": [],
   "source": [
    "df.to_csv('concat.csv', index = False)"
   ]
  }
 ],
 "metadata": {
  "kernelspec": {
   "display_name": "Python 3",
   "language": "python",
   "name": "python3"
  },
  "language_info": {
   "codemirror_mode": {
    "name": "ipython",
    "version": 3
   },
   "file_extension": ".py",
   "mimetype": "text/x-python",
   "name": "python",
   "nbconvert_exporter": "python",
   "pygments_lexer": "ipython3",
   "version": "3.11.8"
  }
 },
 "nbformat": 4,
 "nbformat_minor": 2
}
